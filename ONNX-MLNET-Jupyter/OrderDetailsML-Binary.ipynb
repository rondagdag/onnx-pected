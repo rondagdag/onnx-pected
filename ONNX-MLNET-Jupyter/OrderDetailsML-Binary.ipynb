{
 "cells": [
  {
   "cell_type": "code",
   "execution_count": 35,
   "metadata": {},
   "outputs": [
    {
     "data": {
      "text/html": [
       "Installing package Microsoft.ML, version 1.5.0-preview....done!"
      ]
     },
     "metadata": {},
     "output_type": "display_data"
    },
    {
     "data": {
      "text/html": [
       "Successfully added reference to package Microsoft.ML, version 1.5.0-preview"
      ]
     },
     "metadata": {},
     "output_type": "display_data"
    },
    {
     "data": {
      "text/html": [
       "Installing package Microsoft.ML.AutoML, version 0.17.0-preview....done!"
      ]
     },
     "metadata": {},
     "output_type": "display_data"
    },
    {
     "data": {
      "text/html": [
       "Successfully added reference to package Microsoft.ML.AutoML, version 0.17.0-preview"
      ]
     },
     "metadata": {},
     "output_type": "display_data"
    },
    {
     "data": {
      "text/html": [
       "Installing package Microsoft.Data.Analysis, version 0.1.0....done!"
      ]
     },
     "metadata": {},
     "output_type": "display_data"
    },
    {
     "data": {
      "text/html": [
       "Successfully added reference to package Microsoft.Data.Analysis, version 0.1.0"
      ]
     },
     "metadata": {},
     "output_type": "display_data"
    },
    {
     "data": {
      "text/html": [
       "Installing package Microsoft.ML.OnnxConverter, version 0.17.0-preview....done!"
      ]
     },
     "metadata": {},
     "output_type": "display_data"
    },
    {
     "data": {
      "text/html": [
       "Successfully added reference to package Microsoft.ML.OnnxConverter, version 0.17.0-preview"
      ]
     },
     "metadata": {},
     "output_type": "display_data"
    },
    {
     "data": {
      "text/html": [
       "Installing package Microsoft.ML.OnnxRuntime, version 1.1.0...............done!"
      ]
     },
     "metadata": {},
     "output_type": "display_data"
    },
    {
     "data": {
      "text/html": [
       "Successfully added reference to package Microsoft.ML.OnnxRuntime, version 1.1.0"
      ]
     },
     "metadata": {},
     "output_type": "display_data"
    }
   ],
   "source": [
    "#r \"nuget:Microsoft.ML,1.5.0-preview\"\n",
    "#r \"nuget:Microsoft.ML.AutoML,0.17.0-preview\"\n",
    "#r \"nuget:Microsoft.Data.Analysis,0.1.0\"\n",
    "#r \"nuget:Microsoft.ML.OnnxConverter,0.17.0-preview\"\n",
    "#r \"nuget:Microsoft.ML.OnnxRuntime,1.1.0\""
   ]
  },
  {
   "cell_type": "code",
   "execution_count": 36,
   "metadata": {},
   "outputs": [],
   "source": [
    "using Microsoft.Data.Analysis;\n",
    "using XPlot.Plotly;"
   ]
  },
  {
   "cell_type": "code",
   "execution_count": 37,
   "metadata": {},
   "outputs": [],
   "source": [
    "using Microsoft.AspNetCore.Html;\n",
    "Formatter<DataFrame>.Register((df, writer) =>\n",
    "{\n",
    "    var headers = new List<IHtmlContent>();\n",
    "    headers.Add(th(i(\"index\")));\n",
    "    headers.AddRange(df.Columns.Select(c => (IHtmlContent) th(c.Name)));\n",
    "    var rows = new List<List<IHtmlContent>>();\n",
    "    var take = 20;\n",
    "    for (var i = 0; i < Math.Min(take, df.RowCount); i++)\n",
    "    {\n",
    "        var cells = new List<IHtmlContent>();\n",
    "        cells.Add(td(i));\n",
    "        foreach (var obj in df[i])\n",
    "        {\n",
    "            cells.Add(td(obj));\n",
    "        }\n",
    "        rows.Add(cells);\n",
    "    }\n",
    "    \n",
    "    var t = table(\n",
    "        thead(\n",
    "            headers),\n",
    "        tbody(\n",
    "            rows.Select(\n",
    "                r => tr(r))));\n",
    "    \n",
    "    writer.Write(t);\n",
    "}, \"text/html\");"
   ]
  },
  {
   "cell_type": "code",
   "execution_count": 38,
   "metadata": {},
   "outputs": [],
   "source": [
    "using System.IO;\n",
    "using System.Net.Http;\n",
    "string ordersPath = \"order-details-fullprice.csv\";\n",
    "if (!File.Exists(ordersPath))\n",
    "{\n",
    "    var contents = new HttpClient()\n",
    "        .GetStringAsync(\"https://raw.githubusercontent.com/rondagdag/onnx-pected/master/GenerateONNX-AutoML-Orders/GenerateONNX-AutoML/Data/order-details-fullprice.csv\").Result;\n",
    "        \n",
    "    File.WriteAllText(\"order-details-fullprice.csv\", contents);\n",
    "}"
   ]
  },
  {
   "cell_type": "code",
   "execution_count": 39,
   "metadata": {},
   "outputs": [
    {
     "data": {
      "text/html": [
       "<table><thead><th><i>index</i></th><th>ProductID</th><th>UnitPrice</th><th>Quantity</th><th>PayFullPrice</th></thead><tbody><tr><td>0</td><td>11</td><td>14</td><td>12</td><td>True</td></tr><tr><td>1</td><td>42</td><td>9.8</td><td>10</td><td>True</td></tr><tr><td>2</td><td>72</td><td>34.8</td><td>5</td><td>True</td></tr><tr><td>3</td><td>14</td><td>18.6</td><td>9</td><td>True</td></tr><tr><td>4</td><td>51</td><td>42.4</td><td>40</td><td>True</td></tr><tr><td>5</td><td>41</td><td>7.7</td><td>10</td><td>True</td></tr><tr><td>6</td><td>51</td><td>42.4</td><td>35</td><td>False</td></tr><tr><td>7</td><td>65</td><td>16.8</td><td>15</td><td>False</td></tr><tr><td>8</td><td>22</td><td>16.8</td><td>6</td><td>False</td></tr><tr><td>9</td><td>57</td><td>15.6</td><td>15</td><td>False</td></tr><tr><td>10</td><td>65</td><td>16.8</td><td>20</td><td>True</td></tr><tr><td>11</td><td>20</td><td>64.8</td><td>40</td><td>False</td></tr><tr><td>12</td><td>33</td><td>2</td><td>25</td><td>False</td></tr><tr><td>13</td><td>60</td><td>27.2</td><td>40</td><td>True</td></tr><tr><td>14</td><td>31</td><td>10</td><td>20</td><td>True</td></tr><tr><td>15</td><td>39</td><td>14.4</td><td>42</td><td>True</td></tr><tr><td>16</td><td>49</td><td>16</td><td>40</td><td>True</td></tr><tr><td>17</td><td>24</td><td>3.6</td><td>15</td><td>False</td></tr><tr><td>18</td><td>55</td><td>19.2</td><td>21</td><td>False</td></tr><tr><td>19</td><td>74</td><td>8</td><td>21</td><td>True</td></tr></tbody></table>"
      ]
     },
     "execution_count": 39,
     "metadata": {},
     "output_type": "execute_result"
    }
   ],
   "source": [
    "var ordersData = DataFrame.LoadCsv(ordersPath);\n",
    "ordersData"
   ]
  },
  {
   "cell_type": "code",
   "execution_count": 40,
   "metadata": {},
   "outputs": [
    {
     "data": {
      "text/html": [
       "<div id=\"2e8e3c5d-e838-4928-8c10-14afc29546e0\" style=\"width: 900px; height: 500px;\"></div><script type=\"text/javascript\">\r\n",
       "\r\n",
       "var renderPlotly = function() {\r\n",
       "    var xplotRequire = requirejs.config({context:'xplot-2.0.0',paths:{plotly:'https://cdn.plot.ly/plotly-1.49.2.min'}});\r\n",
       "    xplotRequire(['plotly'], function(Plotly) {\r\n",
       "\n",
       "            var data = [{\"type\":\"histogram\",\"x\":[true,true,true,true,true,true,false,false,false,false,true,false,false,true,true,true,true,false,false,true,true,true,true,true,true,true,true,true,true,false,false,false,true,true,false,true,false,false,true,true,false,true,true,false,true,false,false,true,false,true,true,false,true,false,false,true,true,false,false,true,true,true,true,true,true,false,false,true,false,false,true,true,false,false,true,true,true,true,true,true,true,true,false,true,true,true,true,true,true,true,true,true,true,true,true,false,true,false,false,false,false,false,true,true,false,true,false,false,false,true,true,true,true,true,true,false,false,false,true,true,true,true,true,true,true,true,true,true,true,true,true,true,true,true,true,false,false,true,true,true,true,true,true,true,true,true,true,false,false,false,true,true,true,false,false,false,true,true,true,true,true,true,true,true,true,true,true,true,true,true,true,true,true,true,true,true,true,false,false,false,true,true,true,true,true,true,true,true,true,true,true,true,true,true,true,true,false,false,true,false,false,true,true,true,true,true,true,true,true,false,false,false,false,true,true,true,false,false,false,false,false,false,true,false,false,false,true,false,false,true,true,false,false,false,false,false,true,true,true,true,true,true,true,true,false,true,false,false,false,true,false,false,false,false,false,true,false,true,true,false,true,true,true,false,true,true,false,true,false,false,true,true,false,false,false,true,false,false,true,false,false,false,true,true,true,true,true,true,true,false,true,false,false,false,false,false,false,false,true,true,true,true,true,false,false,true,true,true,true,true,true,true,true,true,true,true,true,true,true,true,false,false,true,false,true,false,false,true,false,false,false,false,false,false,false,false,true,true,true,true,false,false,false,true,false,false,false,false,false,false,true,true,true,true,true,true,true,true,true,true,true,true,false,false,false,true,true,true,true,true,true,false,false,true,true,true,true,true,false,false,true,false,true,true,false,false,false,false,true,true,true,false,false,true,true,true,true,false,false,true,false,true,true,true,true,true,true,true,true,true,true,true,true,true,false,false,false,false,false,true,true,false,false,false,false,true,true,true,true,true,true,true,true,true,true,false,false,false,false,true,true,true,false,true,true,true,true,true,true,true,false,false,true,true,true,true,true,false,false,false,false,false,false,false,true,false,false,true,true,true,false,false,false,false,false,true,true,true,true,true,false,false,true,true,false,false,false,false,true,true,true,true,false,true,true,true,true,false,false,false,true,false,false,false,true,true,true,true,false,false,false,false,true,true,true,true,false,true,true,true,true,true,true,true,false,false,false,false,true,true,true,true,true,true,true,true,false,false,false,false,false,false,true,false,false,false,false,false,false,true,true,true,true,false,false,true,true,true,true,true,true,false,false,true,false,false,false,false,false,true,true,true,true,false,true,false,true,true,false,true,false,true,true,true,true,true,true,true,false,false,false,true,true,true,true,true,false,true,true,true,true,true,true,true,false,false,false,false,true,true,false,false,false,true,true,true,true,true,true,true,true,true,false,false,true,true,true,false,false,false,false,true,true,true,true,true,false,true,false,false,true,true,true,true,false,false,false,false,false,false,false,true,true,true,true,false,true,true,true,true,true,true,true,true,false,false,true,true,true,true,true,true,true,true,true,true,true,false,false,false,false,true,true,true,true,false,false,false,false,false,false,false,false,false,false,false,true,true,true,true,true,false,true,true,false,false,false,false,true,true,true,true,true,true,true,false,true,false,true,true,true,true,true,false,true,false,false,false,false,false,false,true,true,true,true,true,false,false,true,false,false,false,true,false,true,true,true,true,true,true,true,true,true,true,true,false,true,false,true,false,false,false,false,false,false,false,true,true,false,true,true,true,true,true,true,true,true,true,true,true,true,true,true,true,false,false,false,false,false,false,false,false,true,true,true,true,true,true,false,true,false,true,false,false,false,false,true,false,false,false,false,true,true,true,true,true,true,true,true,false,false,false,false,false,false,false,false,false,true,true,true,true,true,true,true,true,false,false,true,false,true,true,false,false,true,true,false,false,false,false,false,false,false,true,false,true,false,true,false,true,false,false,false,false,false,false,true,false,true,true,true,true,true,true,true,true,true,true,true,true,true,true,true,true,true,true,true,true,true,false,false,false,false,true,true,true,false,false,false,true,false,true,true,true,false,false,true,true,false,true,true,true,false,false,false,false,false,true,true,false,false,false,false,false,false,false,true,false,true,true,true,true,true,true,true,false,true,false,false,false,false,false,false,false,false,false,false,true,true,true,true,true,true,true,true,true,false,true,true,true,true,true,true,true,true,false,true,true,true,true,true,false,true,false,false,false,true,true,true,true,true,true,true,true,true,true,true,true,false,true,false,false,true,false,true,true,true,true,true,true,true,true,true,true,false,true,true,true,false,true,false,false,false,false,false,false,false,true,true,true,true,false,false,true,true,true,true,false,false,true,true,true,true,false,false,true,true,false,false,false,false,false,false,true,false,true,true,false,false,false,false,true,true,true,false,true,true,true,false,true,false,false,false,true,false,false,false,false,false,false,false,false,false,true,true,true,true,true,true,true,false,false,false,false,false,false,true,false,false,true,false,false,false,false,false,false,true,true,true,true,true,false,false,false,false,false,true,true,true,true,true,true,true,true,true,false,true,true,true,true,true,true,true,true,true,true,true,false,false,true,true,true,true,true,false,false,false,false,false,true,true,true,true,true,true,true,true,true,true,true,false,true,false,true,false,false,false,true,false,false,false,true,true,true,true,true,true,true,false,false,false,true,true,true,true,true,true,true,true,false,false,false,false,true,false,false,false,false,true,false,false,false,false,false,false,false,true,true,true,true,true,true,true,true,true,true,true,true,true,true,true,false,true,true,true,true,true,true,true,true,true,true,false,true,true,true,true,true,false,false,false,false,false,true,true,true,true,true,false,true,false,true,true,true,true,false,false,false,true,true,false,true,true,true,true,true,true,true,true,true,true,true,true,false,false,false,true,true,true,true,true,true,true,false,false,false,false,false,true,true,true,true,true,true,true,false,false,true,true,true,true,true,true,true,false,false,false,false,false,true,true,true,false,false,true,true,true,true,true,true,true,true,true,true,true,true,true,true,true,true,true,true,false,false,false,false,true,false,true,true,true,true,true,true,false,false,false,false,false,false,false,false,true,true,true,true,true,true,true,true,false,true,false,false,true,true,true,true,true,true,true,true,false,false,false,true,true,true,true,true,true,true,true,false,false,true,true,false,true,true,true,true,false,false,false,true,true,true,false,false,false,false,false,true,true,true,true,true,false,false,true,true,true,true,true,false,false,true,true,false,false,false,false,false,false,false,true,true,true,true,false,false,false,false,true,true,true,true,true,false,false,true,false,false,true,false,false,true,true,true,false,false,true,false,false,false,false,false,false,false,false,false,false,false,false,true,true,false,true,true,false,true,false,true,false,false,true,true,true,true,true,true,true,false,false,true,false,true,true,false,false,false,true,false,false,false,true,false,false,true,true,true,true,true,true,true,true,true,false,true,false,false,true,true,true,true,true,true,true,true,true,true,true,true,true,true,true,true,true,true,true,true,true,true,false,false,false,true,false,false,false,false,false,true,false,true,true,true,true,true,true,true,false,false,false,false,false,false,false,false,false,true,true,true,true,true,true,true,true,false,true,false,false,false,false,true,true,true,true,false,false,false,false,false,false,true,true,true,false,false,false,false,false,false,false,false,true,true,true,true,false,false,true,true,true,false,true,true,true,false,false,true,true,true,false,false,false,true,true,true,true,true,true,true,true,true,false,false,true,true,false,false,false,false,false,true,true,true,false,true,true,true,true,true,true,false,false,false,false,false,false,false,true,true,true,true,false,true,true,true,false,true,false,true,true,true,false,false,false,true,true,false,false,true,false,false,false,true,true,true,true,true,true,true,true,true,true,true,true,true,true,true,false,false,true,true,true,true,true,false,false,false,true,true,true,true,true,true,true,true,true,false,false,true,true,false,false,true,true,true,true,true,false,true,true,false,false,true,true,true,true,true,true,true,true,true,false,false,false,false,true,true,true,true,true,true,true,true,true,true,false,false,true,true,true,true,true,true,true,true,false,false,false,false,false,true,false,false,true,true,true,true,true,true,true,true,true,true,true,true,true,true,false,false,false,true,false,false,true,false,true,true,true,true,false,false,false,true,true,false,false,false,false,false,false,true,true,false,false,false,true,true,true,true,true,false,false,true,true,true,true,true,true,true,true,true,true,true,true,true,true,true,false,false,false,false,true,false,false,false,false,true,false,false,true,true,true,true,true,true,true,true,true,false,false,true,false,true,true,true,true,true,true,false,true,true,true,true,true,false,false,true,true,true,true,true,true,false,true,true,true,true,true,true,true,true,true,true,true,true,true,true,false,false,true,false,true,true,true,true,true,true,false,true,true,true,false,true,true,true,true,false,false,false,true,true,true,true,true,true,true,true,false,true,true,true,true,false,false,false,false,false,false,true,false,false,false,true,true,true,true,false,false,true,true,true,true,false,false,false,false,false,true,true,true,true,true,true,false,false,true,true,true,true,true,true,true,true,true,false,true,true,true,false,false,true,true,false,true,true,true,false,true,false,false,false,true,true,true,true,false,true,true,true,true,true,true,true,true,true,true,true,true,false,false,true,true,false,true,true,true,true,true,true,true,true,true,false,false,true,true,false,false,true,true,true,true,false,true,false,false,true,true,true,true,true,true,true,true,false,false,false,true,true,true,true,true,true,true,true,true,false,true,true,true,true,true,true,true,false,true,true,true,true,true,true,true,false,false,false,false,false,true,false,false,false,false,false,false,false,true,false,true,true,true,true,true,true,true,true,true,true,true,true,true,true,true,true,true,true,true,false,false,true,false,false,false,true,false,false,true,false,false,true,true,true,true,false,false,false,true,false,false,false,true,false,false,true,true,true,true,true,true,false,false,false,false,false,false,false,false,true,true,false,false,false,true,false,true,false,false,false,true,true,false,true,false,true,true,false,false,true,false,true,true],\"nbinsx\":20}];\n",
       "            var layout = \"\";\n",
       "            Plotly.newPlot('2e8e3c5d-e838-4928-8c10-14afc29546e0', data, layout);\n",
       "        });\r\n",
       "};\r\n",
       "if ((typeof(requirejs) !==  typeof(Function)) || (typeof(requirejs.config) !== typeof(Function))) { \r\n",
       "    var script = document.createElement(\"script\"); \r\n",
       "    script.setAttribute(\"src\", \"https://cdnjs.cloudflare.com/ajax/libs/require.js/2.3.6/require.min.js\"); \r\n",
       "    script.onload = function(){\r\n",
       "        renderPlotly();\r\n",
       "    };\r\n",
       "    document.getElementsByTagName(\"head\")[0].appendChild(script); \r\n",
       "}\r\n",
       "else {\r\n",
       "    renderPlotly();\r\n",
       "}\r\n",
       "</script>"
      ]
     },
     "execution_count": 40,
     "metadata": {},
     "output_type": "execute_result"
    }
   ],
   "source": [
    "Chart.Plot(\n",
    "    new Graph.Histogram()\n",
    "    {\n",
    "        x = ordersData[\"PayFullPrice\"],\n",
    "        nbinsx = 20\n",
    "    }\n",
    ")"
   ]
  },
  {
   "cell_type": "code",
   "execution_count": 41,
   "metadata": {},
   "outputs": [
    {
     "data": {
      "text/html": [
       "<div id=\"796d5b63-ca6a-4d23-9375-9d0cc57058a8\" style=\"width: 600px; height: 600px;\"></div><script type=\"text/javascript\">\r\n",
       "\r\n",
       "var renderPlotly = function() {\r\n",
       "    var xplotRequire = requirejs.config({context:'xplot-2.0.0',paths:{plotly:'https://cdn.plot.ly/plotly-1.49.2.min'}});\r\n",
       "    xplotRequire(['plotly'], function(Plotly) {\r\n",
       "\n",
       "            var data = [{\"type\":\"scattergl\",\"x\":[14.0,9.8,34.8,18.6,42.4,7.7,42.4,16.8,16.8,15.6,16.8,64.8,2.0,27.2,10.0,14.4,16.0,3.6,19.2,8.0,15.2,13.9,15.2,44.0,26.2,10.4,35.1,14.4,10.4,15.2,17.0,25.6,8.0,20.8,7.7,15.6,39.4,12.0,8.0,14.4,17.0,24.0,30.4,13.9,3.6,20.7,8.0,15.2,7.7,31.2,12.0,30.4,14.7,44.0,14.4,99.0,27.8,2.0,27.8,15.2,36.8,2.0,64.8,10.0,27.8,24.8,10.0,2.0,14.7,14.4,17.2,27.8,3.6,44.0,24.8,4.8,36.4,39.4,15.5,44.0,35.1,12.0,31.2,3.6,19.2,6.2,7.3,3.6,14.4,20.7,15.6,12.4,7.3,27.2,27.8,35.1,15.5,27.2,11.2,14.4,14.7,26.2,14.4,39.4,13.9,11.2,9.6,5.9,10.0,8.0,26.6,17.0,99.0,16.0,10.4,4.8,15.5,42.4,64.8,50.0,3.6,35.1,6.2,14.4,31.2,36.8,27.2,6.2,30.4,16.8,13.9,28.8,14.4,27.8,15.2,15.2,44.0,39.4,7.3,12.0,13.6,10.0,14.7,30.4,31.2,36.4,36.8,14.7,16.8,10.0,16.0,44.0,17.2,50.0,99.0,14.4,20.7,26.2,5.9,39.4,10.0,28.8,12.0,17.6,20.0,11.2,36.8,17.2,13.9,39.4,11.2,28.8,36.4,36.8,26.2,6.2,15.2,25.6,10.6,39.4,11.2,12.0,7.7,39.4,14.4,7.7,14.4,31.2,36.4,14.4,17.2,14.4,5.6,12.4,11.2,14.4,13.9,14.4,9.6,44.0,35.1,20.0,4.8,18.6,10.0,27.8,17.6,15.6,6.2,15.2,16.8,20.7,10.6,44.0,16.8,10.0,7.3,20.7,210.8,30.4,24.9,27.8,5.9,50.0,11.2,7.6,18.6,8.0,17.2,5.6,10.0,15.2,10.0,25.6,42.4,17.6,7.2,24.9,15.2,20.8,27.8,31.2,20.7,17.6,31.2,39.4,50.0,7.7,36.8,2.0,44.0,15.2,10.0,15.2,19.2,26.6,10.0,14.4,17.6,32.0,32.0,7.3,11.2,31.2,30.4,11.2,14.4,14.7,6.2,14.4,7.2,5.9,13.0,28.8,210.8,7.7,15.5,16.8,3.6,5.9,16.8,210.8,14.4,99.0,3.6,15.6,10.0,19.2,28.8,24.8,24.9,27.2,3.6,11.2,15.2,13.9,10.0,27.2,36.4,99.0,210.8,16.0,5.9,14.4,27.2,11.2,42.4,5.9,10.0,6.2,14.4,28.8,17.2,16.8,16.8,10.4,11.2,5.9,16.8,10.4,8.0,36.4,15.6,26.6,99.0,30.4,14.4,26.6,8.0,15.2,64.8,210.8,27.2,27.8,10.6,17.2,10.0,10.6,18.6,5.9,10.0,36.4,14.4,17.2,7.7,35.1,16.8,20.7,26.2,27.2,12.0,8.0,17.0,50.0,99.0,2.0,8.0,4.8,13.0,30.4,64.8,27.2,24.0,27.2,10.0,3.6,11.2,3.6,36.4,44.0,17.2,7.6,5.6,26.2,24.8,19.2,39.4,12.0,10.0,14.4,9.6,27.8,4.8,28.8,15.2,18.6,11.2,24.9,10.0,4.8,39.4,9.6,26.2,28.8,7.2,17.2,27.8,8.0,42.4,14.4,19.2,10.0,17.2,14.4,10.4,99.0,14.4,16.0,20.7,30.4,16.8,17.2,7.2,35.1,13.9,10.2,24.9,11.2,16.0,8.0,14.4,8.0,36.4,15.2,14.7,16.8,28.8,17.2,20.8,5.9,39.4,18.6,8.0,2.0,44.0,7.7,15.5,44.0,18.6,14.4,39.4,14.4,7.3,2.0,31.2,2.0,7.3,26.2,15.6,210.8,9.6,10.0,10.4,15.2,7.6,22.8,8.0,27.2,28.8,77.6,4.8,12.0,12.0,7.3,24.9,26.2,10.4,24.9,10.0,44.0,14.4,210.8,10.0,19.2,14.4,30.4,26.6,18.6,9.6,13.0,35.1,31.2,8.0,30.4,44.0,31.2,14.7,7.6,24.9,5.9,30.4,16.8,14.4,15.2,16.8,27.8,9.6,30.4,26.6,6.2,26.2,7.3,11.2,15.6,30.4,13.9,26.6,8.0,15.2,13.9,99.0,22.8,35.1,16.8,5.9,13.6,16.8,36.4,31.2,24.9,14.4,7.7,14.4,5.9,7.3,3.6,10.0,5.6,7.3,16.8,17.2,24.9,14.7,24.8,5.6,39.4,24.8,5.9,19.2,26.6,16.8,10.4,36.4,15.5,10.2,12.0,13.9,2.0,9.6,14.4,26.2,22.8,17.2,8.0,16.0,44.0,24.9,36.4,36.8,30.4,17.2,24.0,9.6,27.8,10.0,6.2,8.0,20.7,19.2,4.8,7.2,7.3,11.2,17.6,36.8,30.4,27.2,3.6,99.0,14.7,7.6,13.0,16.8,9.6,3.6,11.2,20.7,36.8,15.2,13.9,15.5,50.0,7.2,26.6,24.0,30.4,3.6,42.4,2.0,17.2,18.6,36.4,14.7,6.2,10.0,13.6,14.4,19.2,12.0,14.4,8.0,14.4,24.8,210.8,26.2,44.0,26.6,7.6,44.0,16.0,27.2,14.7,11.2,10.4,8.0,14.7,42.4,15.2,8.0,19.2,12.0,16.8,42.4,8.0,7.3,24.9,5.9,44.0,12.0,16.8,13.9,44.0,10.0,6.2,15.5,10.4,11.2,11.2,16.8,13.6,28.8,30.4,7.2,7.7,10.4,10.0,30.4,27.8,10.4,4.5,18.4,14.0,45.6,20.0,15.5,45.6,7.45,9.5,32.8,14.0,23.25,21.05,19.0,10.0,32.8,28.5,49.3,14.0,15.0,46.0,12.75,6.0,18.0,45.6,123.79,7.75,22.0,30.0,40.0,4.5,12.0,9.5,34.0,10.0,32.0,28.5,81.0,45.6,38.0,21.05,7.75,97.0,17.45,43.9,2.5,34.0,62.5,9.65,14.0,7.0,55.0,15.0,4.5,263.5,19.45,31.0,38.0,34.0,4.5,32.8,18.0,9.65,12.5,18.0,40.0,25.89,18.4,39.0,81.0,26.0,9.65,31.0,25.89,46.0,7.45,19.0,18.4,18.0,6.0,38.0,22.0,19.0,21.0,2.5,34.8,24.0,12.5,36.0,39.0,46.0,28.5,18.0,55.0,25.89,17.0,22.0,34.8,15.0,25.89,18.4,7.45,21.0,18.4,19.5,55.0,38.0,12.5,2.5,34.0,12.5,53.0,13.25,34.8,15.0,15.0,34.8,6.0,10.0,2.5,20.0,10.0,31.23,263.5,12.5,4.5,263.5,21.05,21.5,21.0,7.45,38.0,9.0,45.6,14.0,21.0,30.0,18.0,49.3,32.0,19.0,14.0,9.65,12.5,9.5,53.0,39.0,9.2,10.0,28.5,17.45,18.0,19.45,36.0,7.75,21.0,17.45,21.0,12.5,18.0,17.45,9.0,49.3,13.0,23.25,9.2,4.5,53.0,38.0,34.8,33.25,7.75,9.5,53.0,7.0,32.8,15.0,9.65,24.0,25.89,49.3,19.45,53.0,2.5,49.3,19.0,7.0,39.0,12.5,24.0,4.5,33.25,21.0,62.5,18.0,12.5,53.0,55.0,31.0,12.5,18.0,21.0,38.0,23.25,14.0,17.45,32.0,18.4,7.75,39.0,14.0,32.8,2.5,18.4,49.3,33.25,55.0,43.9,34.8,18.0,18.0,12.5,19.45,18.0,7.75,13.0,18.0,19.5,15.5,7.75,23.25,9.65,21.05,7.75,19.5,18.0,123.79,34.0,36.0,12.5,9.5,7.0,31.23,18.0,13.0,62.5,14.0,18.0,18.0,13.0,10.0,30.0,7.45,15.5,31.23,81.0,36.0,18.0,7.0,13.25,18.0,28.5,36.0,38.0,43.9,7.75,4.5,19.5,21.05,43.9,21.5,49.3,7.45,15.0,6.0,55.0,13.0,21.0,20.0,12.75,18.0,17.45,55.0,34.0,21.5,22.0,24.0,49.3,30.0,39.0,2.5,18.4,34.8,38.0,18.0,31.0,10.0,19.0,18.0,19.0,34.0,31.0,19.0,20.0,34.0,18.0,6.0,7.75,21.0,10.0,18.0,24.0,263.5,38.0,15.0,21.5,55.0,25.0,38.0,12.5,10.0,21.0,4.5,7.0,9.2,9.0,15.0,21.5,19.0,12.5,23.25,9.2,10.0,4.5,18.0,45.6,123.79,19.45,23.25,14.0,34.0,32.8,34.0,21.5,49.3,15.0,18.0,123.79,33.25,24.0,18.0,7.75,19.0,2.5,38.0,6.0,31.23,49.3,30.0,62.5,53.0,7.75,22.0,21.35,21.0,22.0,13.25,21.0,16.25,38.0,9.5,21.05,34.8,62.5,36.0,15.0,19.0,18.4,10.0,28.5,45.6,18.0,12.0,62.5,46.0,12.0,62.5,19.0,18.0,31.0,21.5,13.0,9.2,18.0,21.0,4.5,45.6,34.8,25.89,32.8,7.45,9.2,21.0,25.89,14.0,17.45,34.0,22.0,18.0,7.45,9.65,23.25,19.45,9.5,15.5,9.65,12.0,9.5,38.0,34.0,10.0,18.4,34.0,13.0,12.5,18.4,15.0,81.0,18.0,13.25,12.5,18.4,14.0,53.0,31.0,38.0,21.05,53.0,55.0,18.0,123.79,21.05,36.0,21.5,12.5,24.0,33.25,19.0,9.0,12.0,14.0,15.0,7.75,17.45,49.3,21.05,263.5,21.5,17.45,14.0,46.0,9.0,23.25,32.8,13.25,31.0,9.2,19.45,31.23,2.5,38.0,2.5,9.65,7.45,55.0,17.45,12.5,14.0,9.2,10.0,33.25,2.5,17.0,7.75,7.0,18.4,9.5,34.0,31.0,9.65,9.5,39.0,31.23,97.0,123.79,19.0,31.0,45.6,14.0,18.0,38.0,13.0,18.0,123.79,46.0,19.45,49.3,43.9,97.0,7.45,36.0,15.0,30.0,55.0,15.0,40.0,38.0,4.5,39.0,12.0,9.2,18.0,13.25,15.0,21.0,39.0,123.79,21.05,15.0,9.5,18.0,14.0,12.5,21.5,55.0,21.5,18.0,10.0,18.0,19.0,55.0,15.0,22.0,4.5,12.75,12.5,32.0,17.45,46.0,55.0,24.0,19.5,15.0,21.35,19.0,40.0,53.0,34.0,9.2,9.5,9.2,9.65,32.8,32.8,38.0,31.0,31.23,9.5,12.0,19.0,39.0,9.5,38.0,13.25,31.0,21.5,10.0,53.0,28.5,10.0,7.45,36.0,38.0,17.45,19.0,49.3,62.5,25.89,7.45,18.0,21.5,19.45,19.0,12.5,12.5,7.75,31.23,31.0,28.5,9.65,7.0,24.0,22.0,21.0,39.0,38.0,55.0,25.89,18.4,24.0,34.0,18.0,10.0,16.25,17.45,12.5,21.05,10.0,53.0,18.0,23.25,45.6,7.0,25.0,25.89,18.0,28.5,13.0,21.05,7.75,6.0,9.65,17.45,19.0,7.0,45.6,18.0,9.5,38.0,19.0,10.0,34.0,34.8,12.0,18.4,62.5,19.45,55.0,34.8,6.0,14.0,49.3,36.0,12.5,9.65,43.9,36.0,9.0,18.4,38.0,38.0,55.0,18.0,23.25,9.5,55.0,31.23,25.89,16.25,15.0,18.0,36.0,9.5,10.0,18.4,9.5,38.0,19.5,36.0,62.5,19.0,12.5,36.0,14.0,55.0,49.3,33.25,31.23,7.0,15.0,32.0,14.0,43.9,46.0,14.0,7.75,18.0,9.5,53.0,38.0,10.0,21.0,4.5,10.0,18.0,21.05,19.0,30.0,12.5,14.0,21.0,12.5,34.0,21.5,9.65,7.0,28.5,49.3,21.0,21.5,123.79,55.0,39.0,12.5,7.75,12.5,17.0,31.0,14.0,12.5,14.0,9.5,53.0,14.0,9.65,17.45,49.3,15.0,13.0,7.45,38.0,10.0,12.5,12.5,263.5,19.0,18.0,34.8,31.0,7.75,40.0,25.89,7.75,19.0,123.79,9.2,7.75,62.5,18.0,43.9,12.5,30.0,38.0,123.79,9.65,19.0,7.45,12.5,9.65,7.0,23.25,7.45,17.45,39.0,31.23,19.45,33.25,36.0,21.0,49.3,34.8,6.0,4.5,55.0,21.0,53.0,7.45,39.0,123.79,25.89,53.0,24.0,49.3,9.2,14.0,55.0,31.0,45.6,20.0,14.0,263.5,19.0,21.05,10.0,18.4,38.0,18.0,7.0,6.0,14.0,15.0,9.2,9.0,18.4,12.5,34.8,13.0,19.0,12.0,9.65,46.0,12.75,28.5,2.5,263.5,49.3,31.23,263.5,18.4,49.3,32.0,9.65,46.0,7.75,38.0,18.0,53.0,49.3,15.0,21.0,19.5,55.0,13.0,9.65,15.0,31.23,32.8,12.5,19.5,31.0,18.0,81.0,263.5,19.0,40.0,6.0,34.0,25.0,18.0,34.0,12.5,9.2,18.0,263.5,46.0,6.0,14.0,19.45,33.25,30.0,12.5,32.8,123.79,25.89,55.0,13.0,21.0,18.0,19.5,34.0,33.25,6.0,18.4,9.5,18.0,18.0,62.5,19.0,13.25,34.8,14.0,18.0,31.0,38.0,55.0,13.0,21.0,46.0,12.5,15.0,53.0,21.0,9.0,18.0,14.0,13.25,33.25,22.0,15.0,10.0,18.0,9.2,26.0,9.5,34.0,21.5,21.35,97.0,10.0,31.23,14.0,2.5,15.0,19.0,14.0,19.5,55.0,19.0,39.0,49.3,62.5,31.0,6.0,17.45,12.5,38.0,21.05,19.0,14.0,10.0,31.23,123.79,30.0,43.9,15.0,4.5,7.45,33.25,53.0,18.0,39.0,62.5,10.0,2.5,49.3,21.0,7.0,18.0,13.25,18.0,14.0,263.5,18.0,19.0,4.5,25.89,32.8,31.23,18.0,20.0,18.0,21.0,9.0,12.5,18.0,53.0,25.0,17.45,39.0,24.0,49.3,33.25,21.05,10.0,45.6,31.0,9.2,9.5,20.0,12.0,33.25,17.45,62.5,81.0,18.4,21.05,18.0,9.0,28.5,15.0,15.0,14.0,20.0,7.45,4.5,10.0,38.0,21.05,19.0,4.5,15.0,13.0,31.0,12.5,13.0,14.0,19.0,12.5,21.0,263.5,39.0,14.0,9.65,25.89,55.0,40.0,4.5,123.79,25.89,19.0,6.0,36.0,7.75,4.5,18.0,18.4,34.0,9.5,38.0,123.79,25.89,6.0,18.0,15.0,9.65,21.5,24.0,49.3,6.0,21.05,12.5,13.25,49.3,18.0,28.5,7.75,30.0,7.0,30.0,17.45,9.65,9.2,20.0,28.5,18.0,39.0,14.0,21.0,123.79,22.0,2.5,13.25,21.5,39.0,2.5,7.45,17.45,32.0,19.5,25.89,34.0,18.0,34.0,17.45,14.0,18.4,16.25,18.0,43.9,39.0,4.5,14.0,46.0,14.0,31.0,45.6,7.75,19.0,7.0,21.0,6.0,9.2,34.8,81.0,7.0,18.0,9.5,18.0,10.0,7.75,13.0,10.0,43.9,24.0,13.25,6.0,19.5,17.45,49.3,34.8,7.75,32.8,28.5,25.0,18.0,62.5,9.0,19.0,45.6,14.0,6.0,46.0,34.0,21.5,19.0,14.0,30.0,6.0,12.5,49.3,12.5,34.8,20.0,6.0,21.0,12.0,21.0,19.45,38.0,6.0,12.5,31.0,4.5,13.0,55.0,16.25,53.0,24.0,25.0,31.0,39.0,49.3,22.0,2.5,9.65,7.75,25.0,45.6,81.0,12.5,17.45,12.5,9.5,34.0,7.75,10.0,9.5,53.0,25.89,18.0,33.25,21.35,30.0,34.8,7.75,4.5,9.65,7.0,18.0,30.0,6.0,32.8,36.0,18.0,34.0,62.5,263.5,36.0,53.0,26.0,38.0,49.3,9.2,20.0,38.0,4.5,33.25,12.0,7.0,123.79,39.0,2.5,31.23,9.65,7.75,43.9,40.0,7.75,45.6,18.0,9.5,53.0,43.9,40.0,10.0,18.4,19.45,30.0,38.0,4.5,43.9,12.5,43.9,7.75,263.5,30.0,46.0,6.0,19.5,17.45,4.5,19.0,17.45,62.5,32.0,21.0,81.0,18.0,13.0,30.0,46.0,34.8,30.0,49.3,25.0,21.0,9.65,10.0,14.0,24.0,28.5,19.0,15.0,18.0,34.8,123.79,9.65,55.0,53.0,34.0,14.0,32.0,12.0,7.0,4.5,28.5,10.0,7.75,9.65,53.0,13.0,22.0,4.5,13.0,30.0,21.0,12.0,24.0,6.0,18.0,14.0,24.0,18.0,18.4,7.0,31.23,18.0,18.0,55.0,18.0,123.79,40.0,123.79,14.0,45.6,14.0,21.5,4.5,19.0,34.0,30.0,4.5,13.25,21.5,9.2,34.0,21.5,9.0,14.0,9.5,12.5,9.65,25.89,13.0,12.5,19.0,10.0,55.0,15.0,38.0,62.5,38.0,12.0,20.0,31.0,19.0,81.0,31.23,53.0,34.8,9.2,36.0,30.0,46.0,31.23,2.5,21.05,21.5,18.0,6.0,62.5,53.0,4.5,49.3,24.0,55.0,38.0,43.9,19.0,21.35,123.79,55.0,18.0,6.0,4.5,33.25,21.5,19.0,263.5,55.0,32.8,36.0,10.0,19.45,28.5,18.0,18.0,14.0,7.45,6.0,55.0,15.0,18.4,7.0,21.5,45.6,18.0,20.0,19.5,10.0,19.0,43.9,19.45,28.5,21.0,49.3,2.5,53.0,38.0,32.0,18.0,18.0,21.35,12.5,19.0,38.0,18.0,4.5,46.0,28.5,62.5,32.0,33.25,2.5,14.0,4.5,14.0,53.0,19.5,30.0,24.0,34.0,15.0,10.0,34.0,28.5,6.0,39.0,34.0,34.0,13.0,34.0,32.8,15.0,14.0,18.4,9.65,39.0,9.65,32.8,24.0,12.5,25.89,7.45,17.45,9.2,14.0,9.65,45.6,46.0,13.0,18.0,18.0,19.0,17.45,12.5,30.0,6.0,19.0,9.65,16.25,33.25,21.0,4.5,17.45,19.0,12.0,18.0,25.0,23.25,9.2,19.0,10.0,22.0,25.0,30.0,40.0,31.0,38.0,6.0,23.25,17.45,81.0,9.0,32.0,18.0,9.65,12.0,7.0,24.0,34.0,33.25,17.0,15.0,7.75,13.0],\"y\":[12.0,10.0,5.0,9.0,40.0,10.0,35.0,15.0,6.0,15.0,20.0,40.0,25.0,40.0,20.0,42.0,40.0,15.0,21.0,21.0,20.0,35.0,25.0,30.0,15.0,12.0,25.0,6.0,15.0,50.0,65.0,6.0,10.0,1.0,16.0,50.0,15.0,21.0,20.0,20.0,12.0,15.0,2.0,60.0,28.0,60.0,36.0,35.0,25.0,30.0,20.0,12.0,50.0,70.0,15.0,10.0,4.0,60.0,20.0,30.0,25.0,24.0,6.0,40.0,24.0,24.0,15.0,20.0,60.0,33.0,20.0,7.0,12.0,6.0,15.0,10.0,20.0,12.0,16.0,15.0,8.0,25.0,15.0,12.0,20.0,30.0,1.0,6.0,4.0,6.0,2.0,20.0,18.0,35.0,3.0,15.0,21.0,20.0,5.0,45.0,40.0,36.0,100.0,40.0,40.0,20.0,15.0,10.0,3.0,30.0,9.0,20.0,15.0,15.0,10.0,20.0,24.0,2.0,20.0,12.0,10.0,5.0,6.0,18.0,15.0,15.0,21.0,6.0,4.0,12.0,30.0,15.0,60.0,20.0,40.0,40.0,30.0,15.0,15.0,20.0,30.0,20.0,10.0,20.0,40.0,28.0,12.0,40.0,30.0,15.0,30.0,10.0,2.0,25.0,25.0,30.0,10.0,10.0,5.0,10.0,3.0,1.0,5.0,20.0,30.0,2.0,20.0,3.0,10.0,5.0,6.0,7.0,4.0,24.0,20.0,10.0,12.0,40.0,30.0,25.0,14.0,30.0,10.0,70.0,20.0,20.0,6.0,8.0,14.0,30.0,30.0,10.0,20.0,5.0,4.0,4.0,21.0,70.0,30.0,40.0,80.0,6.0,12.0,9.0,4.0,40.0,24.0,16.0,50.0,25.0,50.0,35.0,30.0,9.0,40.0,10.0,10.0,8.0,20.0,12.0,50.0,25.0,15.0,40.0,10.0,16.0,10.0,10.0,40.0,8.0,10.0,7.0,25.0,6.0,48.0,18.0,40.0,24.0,20.0,28.0,25.0,20.0,15.0,10.0,70.0,28.0,20.0,12.0,40.0,8.0,9.0,24.0,56.0,40.0,40.0,50.0,4.0,15.0,35.0,70.0,70.0,80.0,9.0,36.0,20.0,10.0,50.0,4.0,6.0,15.0,25.0,24.0,15.0,18.0,20.0,13.0,77.0,10.0,10.0,20.0,12.0,50.0,12.0,4.0,25.0,25.0,30.0,12.0,20.0,30.0,16.0,8.0,10.0,10.0,20.0,56.0,70.0,80.0,30.0,35.0,10.0,35.0,28.0,54.0,55.0,50.0,20.0,24.0,20.0,12.0,12.0,30.0,5.0,24.0,5.0,5.0,36.0,18.0,15.0,7.0,5.0,13.0,25.0,35.0,20.0,18.0,15.0,30.0,20.0,6.0,12.0,40.0,70.0,42.0,80.0,50.0,30.0,15.0,15.0,10.0,42.0,20.0,20.0,6.0,8.0,16.0,20.0,18.0,20.0,6.0,30.0,14.0,32.0,9.0,14.0,60.0,50.0,20.0,15.0,20.0,28.0,15.0,10.0,20.0,8.0,15.0,10.0,15.0,6.0,12.0,15.0,15.0,20.0,40.0,16.0,15.0,20.0,30.0,60.0,40.0,45.0,24.0,18.0,50.0,25.0,42.0,7.0,70.0,32.0,10.0,10.0,28.0,70.0,8.0,40.0,60.0,21.0,10.0,18.0,30.0,120.0,60.0,30.0,35.0,14.0,21.0,35.0,30.0,18.0,70.0,20.0,60.0,60.0,65.0,21.0,70.0,30.0,40.0,30.0,50.0,10.0,30.0,42.0,5.0,2.0,30.0,15.0,15.0,10.0,6.0,35.0,12.0,12.0,49.0,16.0,25.0,40.0,9.0,20.0,24.0,40.0,14.0,18.0,50.0,2.0,20.0,20.0,10.0,20.0,50.0,2.0,36.0,35.0,60.0,55.0,16.0,15.0,60.0,20.0,20.0,2.0,8.0,20.0,4.0,30.0,15.0,10.0,2.0,14.0,20.0,60.0,49.0,30.0,10.0,20.0,5.0,7.0,35.0,20.0,40.0,35.0,45.0,50.0,30.0,70.0,50.0,50.0,30.0,10.0,40.0,28.0,6.0,18.0,10.0,12.0,10.0,5.0,40.0,30.0,24.0,15.0,15.0,20.0,15.0,15.0,16.0,6.0,30.0,45.0,49.0,24.0,90.0,50.0,30.0,80.0,60.0,6.0,12.0,10.0,15.0,8.0,30.0,6.0,15.0,12.0,20.0,3.0,15.0,40.0,35.0,2.0,6.0,20.0,14.0,20.0,35.0,20.0,6.0,120.0,35.0,28.0,55.0,15.0,100.0,15.0,25.0,20.0,20.0,10.0,20.0,50.0,25.0,30.0,40.0,21.0,36.0,30.0,30.0,20.0,15.0,50.0,16.0,20.0,40.0,21.0,4.0,40.0,28.0,60.0,1.0,21.0,21.0,50.0,16.0,3.0,30.0,20.0,25.0,18.0,20.0,30.0,25.0,10.0,5.0,28.0,12.0,8.0,15.0,40.0,35.0,2.0,30.0,15.0,8.0,30.0,20.0,80.0,18.0,12.0,12.0,12.0,18.0,21.0,10.0,35.0,60.0,42.0,2.0,12.0,15.0,21.0,20.0,20.0,30.0,28.0,60.0,30.0,30.0,12.0,24.0,40.0,10.0,35.0,30.0,14.0,10.0,3.0,20.0,20.0,30.0,60.0,5.0,25.0,16.0,5.0,30.0,24.0,30.0,20.0,15.0,18.0,60.0,30.0,36.0,15.0,7.0,60.0,20.0,15.0,10.0,10.0,30.0,10.0,20.0,5.0,20.0,14.0,25.0,25.0,14.0,5.0,30.0,20.0,25.0,12.0,8.0,20.0,21.0,6.0,30.0,70.0,20.0,12.0,12.0,10.0,25.0,3.0,18.0,14.0,15.0,15.0,10.0,10.0,3.0,36.0,36.0,50.0,50.0,10.0,10.0,9.0,6.0,12.0,40.0,50.0,15.0,39.0,35.0,70.0,39.0,50.0,16.0,50.0,120.0,16.0,84.0,25.0,80.0,20.0,6.0,4.0,6.0,5.0,15.0,9.0,16.0,40.0,10.0,8.0,5.0,3.0,10.0,6.0,40.0,24.0,20.0,25.0,25.0,15.0,18.0,6.0,2.0,10.0,60.0,15.0,30.0,15.0,8.0,10.0,30.0,50.0,30.0,3.0,8.0,9.0,14.0,20.0,10.0,40.0,25.0,20.0,50.0,2.0,15.0,24.0,50.0,24.0,24.0,10.0,10.0,10.0,50.0,10.0,5.0,15.0,15.0,20.0,30.0,35.0,30.0,6.0,20.0,21.0,9.0,7.0,1.0,8.0,15.0,15.0,6.0,60.0,40.0,30.0,35.0,35.0,4.0,36.0,9.0,15.0,24.0,30.0,70.0,7.0,7.0,10.0,10.0,30.0,40.0,24.0,60.0,10.0,14.0,55.0,100.0,48.0,8.0,10.0,6.0,10.0,40.0,20.0,40.0,18.0,30.0,15.0,14.0,24.0,30.0,6.0,30.0,20.0,20.0,10.0,30.0,35.0,18.0,20.0,40.0,24.0,30.0,20.0,25.0,20.0,30.0,18.0,3.0,12.0,18.0,20.0,15.0,10.0,50.0,20.0,10.0,25.0,70.0,16.0,6.0,25.0,25.0,18.0,35.0,18.0,10.0,60.0,3.0,40.0,5.0,35.0,30.0,15.0,60.0,11.0,28.0,12.0,10.0,50.0,15.0,18.0,40.0,25.0,14.0,2.0,10.0,6.0,12.0,6.0,30.0,10.0,10.0,20.0,21.0,10.0,20.0,18.0,20.0,6.0,10.0,21.0,15.0,9.0,30.0,50.0,4.0,14.0,10.0,24.0,10.0,50.0,15.0,4.0,6.0,20.0,20.0,40.0,100.0,4.0,20.0,60.0,14.0,10.0,50.0,25.0,5.0,21.0,20.0,4.0,24.0,30.0,30.0,120.0,65.0,5.0,24.0,30.0,35.0,20.0,12.0,50.0,9.0,10.0,4.0,30.0,60.0,35.0,5.0,48.0,25.0,6.0,10.0,30.0,20.0,70.0,15.0,20.0,20.0,10.0,45.0,100.0,14.0,42.0,12.0,28.0,3.0,10.0,6.0,21.0,6.0,10.0,15.0,70.0,55.0,18.0,40.0,80.0,8.0,40.0,14.0,8.0,5.0,5.0,15.0,14.0,15.0,15.0,30.0,70.0,20.0,15.0,42.0,40.0,5.0,5.0,5.0,10.0,20.0,15.0,20.0,18.0,21.0,15.0,25.0,3.0,30.0,10.0,6.0,10.0,3.0,5.0,10.0,12.0,20.0,20.0,15.0,35.0,25.0,20.0,9.0,12.0,35.0,8.0,30.0,20.0,36.0,13.0,35.0,80.0,35.0,50.0,15.0,2.0,10.0,15.0,40.0,25.0,6.0,10.0,25.0,60.0,20.0,21.0,60.0,8.0,20.0,15.0,50.0,60.0,30.0,20.0,15.0,21.0,2.0,4.0,20.0,21.0,20.0,15.0,15.0,18.0,30.0,35.0,30.0,20.0,15.0,15.0,20.0,15.0,30.0,25.0,30.0,12.0,20.0,2.0,20.0,30.0,20.0,12.0,20.0,6.0,20.0,3.0,28.0,6.0,50.0,24.0,45.0,10.0,45.0,30.0,60.0,70.0,55.0,70.0,20.0,24.0,40.0,21.0,3.0,49.0,10.0,30.0,30.0,20.0,24.0,12.0,15.0,20.0,1.0,10.0,36.0,10.0,45.0,14.0,8.0,4.0,15.0,30.0,32.0,60.0,25.0,50.0,25.0,10.0,10.0,12.0,15.0,12.0,3.0,6.0,6.0,5.0,30.0,10.0,30.0,2.0,7.0,21.0,30.0,8.0,100.0,30.0,120.0,30.0,12.0,50.0,20.0,40.0,30.0,12.0,28.0,30.0,4.0,30.0,9.0,20.0,40.0,30.0,20.0,4.0,15.0,30.0,15.0,50.0,10.0,6.0,18.0,60.0,14.0,35.0,20.0,30.0,30.0,40.0,40.0,24.0,48.0,20.0,6.0,60.0,30.0,15.0,90.0,25.0,50.0,10.0,4.0,20.0,20.0,18.0,7.0,9.0,30.0,30.0,15.0,8.0,12.0,65.0,8.0,12.0,5.0,12.0,40.0,60.0,42.0,20.0,35.0,6.0,15.0,5.0,35.0,35.0,6.0,35.0,24.0,20.0,4.0,20.0,24.0,8.0,21.0,40.0,28.0,4.0,5.0,40.0,28.0,10.0,5.0,5.0,12.0,42.0,120.0,3.0,30.0,18.0,30.0,110.0,24.0,30.0,27.0,50.0,18.0,12.0,21.0,30.0,5.0,7.0,10.0,32.0,15.0,25.0,36.0,20.0,40.0,20.0,12.0,3.0,40.0,21.0,8.0,50.0,3.0,50.0,45.0,42.0,15.0,16.0,5.0,12.0,4.0,6.0,25.0,5.0,20.0,10.0,10.0,15.0,6.0,12.0,15.0,50.0,30.0,40.0,15.0,3.0,10.0,40.0,30.0,20.0,16.0,20.0,25.0,30.0,15.0,20.0,20.0,2.0,40.0,20.0,4.0,12.0,3.0,6.0,18.0,5.0,35.0,40.0,14.0,15.0,20.0,50.0,35.0,28.0,50.0,24.0,16.0,45.0,7.0,6.0,28.0,9.0,40.0,8.0,35.0,9.0,30.0,44.0,40.0,28.0,15.0,6.0,10.0,5.0,40.0,25.0,12.0,30.0,20.0,15.0,8.0,3.0,4.0,5.0,3.0,30.0,30.0,14.0,25.0,21.0,20.0,6.0,20.0,30.0,7.0,30.0,24.0,20.0,60.0,40.0,10.0,12.0,40.0,30.0,35.0,18.0,16.0,30.0,28.0,60.0,40.0,6.0,20.0,20.0,130.0,80.0,40.0,35.0,40.0,2.0,4.0,50.0,15.0,12.0,30.0,15.0,20.0,15.0,15.0,16.0,18.0,25.0,33.0,70.0,7.0,2.0,50.0,6.0,3.0,16.0,12.0,27.0,120.0,20.0,10.0,20.0,20.0,35.0,15.0,3.0,20.0,35.0,1.0,10.0,5.0,30.0,2.0,30.0,10.0,10.0,30.0,15.0,42.0,15.0,20.0,50.0,40.0,30.0,15.0,30.0,18.0,3.0,20.0,14.0,20.0,10.0,3.0,15.0,14.0,8.0,15.0,6.0,65.0,35.0,21.0,10.0,35.0,24.0,20.0,2.0,10.0,20.0,20.0,25.0,50.0,10.0,7.0,40.0,20.0,25.0,30.0,60.0,5.0,24.0,15.0,15.0,36.0,24.0,4.0,10.0,10.0,20.0,2.0,15.0,1.0,20.0,50.0,20.0,7.0,5.0,5.0,15.0,18.0,30.0,16.0,40.0,20.0,12.0,35.0,20.0,20.0,8.0,30.0,16.0,30.0,20.0,40.0,30.0,60.0,25.0,20.0,20.0,7.0,20.0,30.0,20.0,6.0,3.0,6.0,20.0,15.0,40.0,15.0,12.0,9.0,12.0,20.0,35.0,15.0,15.0,21.0,5.0,2.0,10.0,20.0,10.0,21.0,6.0,28.0,30.0,24.0,2.0,8.0,8.0,9.0,3.0,10.0,16.0,3.0,20.0,9.0,9.0,8.0,20.0,15.0,2.0,52.0,6.0,24.0,60.0,30.0,6.0,25.0,40.0,21.0,4.0,25.0,50.0,30.0,15.0,6.0,10.0,16.0,30.0,50.0,15.0,15.0,5.0,20.0,12.0,4.0,35.0,70.0,25.0,42.0,60.0,48.0,21.0,30.0,20.0,80.0,12.0,60.0,36.0,45.0,55.0,30.0,3.0,49.0,18.0,20.0,4.0,30.0,5.0,10.0,10.0,42.0,15.0,6.0,50.0,10.0,100.0,65.0,50.0,14.0,24.0,15.0,20.0,20.0,30.0,35.0,10.0,5.0,10.0,4.0,40.0,35.0,30.0,3.0,20.0,42.0,20.0,40.0,35.0,3.0,25.0,8.0,20.0,12.0,4.0,15.0,60.0,80.0,21.0,6.0,40.0,3.0,20.0,30.0,42.0,40.0,10.0,50.0,20.0,3.0,2.0,50.0,12.0,16.0,10.0,20.0,15.0,21.0,20.0,3.0,10.0,25.0,21.0,15.0,21.0,20.0,30.0,25.0,20.0,12.0,10.0,10.0,30.0,30.0,50.0,10.0,25.0,20.0,32.0,8.0,40.0,21.0,12.0,20.0,12.0,30.0,25.0,70.0,35.0,40.0,5.0,20.0,18.0,40.0,40.0,15.0,10.0,14.0,15.0,40.0,30.0,10.0,24.0,35.0,20.0,28.0,50.0,120.0,110.0,45.0,91.0,100.0,15.0,16.0,80.0,36.0,5.0,8.0,3.0,30.0,30.0,30.0,6.0,40.0,21.0,20.0,15.0,35.0,20.0,15.0,14.0,20.0,14.0,12.0,15.0,5.0,12.0,10.0,5.0,10.0,12.0,15.0,40.0,60.0,30.0,40.0,15.0,25.0,10.0,30.0,10.0,6.0,6.0,20.0,1.0,10.0,60.0,25.0,24.0,24.0,20.0,24.0,10.0,40.0,15.0,35.0,10.0,10.0,24.0,20.0,30.0,6.0,25.0,12.0,2.0,10.0,7.0,10.0,5.0,5.0,20.0,5.0,5.0,60.0,49.0,15.0,36.0,25.0,25.0,30.0,42.0,30.0,30.0,14.0,16.0,20.0,2.0,30.0,20.0,21.0,4.0,8.0,30.0,8.0,20.0,20.0,24.0,49.0,35.0,10.0,40.0,8.0,20.0,44.0,30.0,80.0,50.0,28.0,15.0,21.0,15.0,5.0,18.0,18.0,20.0,10.0,25.0,25.0,40.0,4.0,9.0,40.0,4.0,12.0,30.0,6.0,60.0,5.0,15.0,6.0,50.0,16.0,2.0,50.0,50.0,28.0,25.0,30.0,24.0,12.0,12.0,14.0,8.0,30.0,40.0,8.0,20.0,6.0,5.0,20.0,10.0,24.0,6.0,60.0,45.0,77.0,20.0,9.0,44.0,2.0,6.0,5.0,10.0,16.0,8.0,12.0,12.0,12.0,40.0,30.0,30.0,4.0,9.0,40.0,14.0,6.0,7.0,5.0,6.0,10.0,10.0,16.0,10.0,20.0,30.0,30.0,10.0,20.0,20.0,40.0,10.0,6.0,18.0,20.0,80.0,30.0,24.0,35.0,40.0,60.0,20.0,9.0,84.0,15.0,55.0,20.0,40.0,36.0,8.0,35.0,30.0,15.0,10.0,15.0,60.0,6.0,20.0,60.0,40.0,40.0,15.0,4.0,65.0,60.0,65.0,66.0,50.0,20.0,90.0,2.0,50.0,35.0,18.0,20.0,4.0,40.0,50.0,20.0,20.0,12.0,7.0,20.0,30.0,20.0,15.0,21.0,25.0,30.0,30.0,60.0,25.0,25.0,6.0,56.0,15.0,24.0,40.0,4.0,10.0,10.0,6.0,6.0,2.0,10.0,8.0,2.0,30.0,10.0,14.0,70.0,90.0,21.0,12.0,18.0,9.0,20.0,10.0,40.0,20.0,50.0,36.0,60.0,10.0,4.0,20.0,2.0,28.0,15.0,18.0,15.0,16.0,25.0,110.0,30.0,20.0,10.0,5.0,3.0,2.0,24.0,11.0,15.0,63.0,44.0,35.0,35.0,30.0,4.0,30.0,12.0,30.0,21.0,50.0,10.0,20.0,8.0,10.0,30.0,21.0,35.0,24.0,20.0,12.0,100.0,70.0,60.0,100.0,45.0,80.0,21.0,20.0,16.0,35.0,25.0,30.0,70.0,36.0,15.0,12.0,6.0,10.0,60.0,30.0,10.0,7.0,30.0,4.0,5.0,2.0,30.0,20.0,24.0,60.0,28.0,20.0,30.0,30.0,15.0,4.0,10.0,12.0,15.0,24.0,20.0,15.0,18.0,25.0,30.0,42.0,10.0,4.0,50.0,10.0,30.0,10.0,35.0,20.0,25.0,10.0,20.0,15.0,15.0,20.0,20.0,40.0,35.0,50.0,3.0,3.0,21.0,4.0,30.0,12.0,35.0,4.0,10.0,15.0,10.0,12.0,30.0,40.0,30.0,77.0,12.0,25.0,4.0,55.0,4.0,20.0,3.0,42.0,35.0,9.0,8.0,36.0,28.0,20.0,40.0,20.0,30.0,20.0,15.0,10.0,8.0,40.0,22.0,130.0,10.0,20.0,14.0,10.0,30.0,2.0,20.0,20.0,10.0,24.0,4.0,1.0,1.0,1.0,2.0,1.0,2.0,4.0,1.0,2.0,1.0,2.0,1.0,2.0,3.0,3.0,2.0,2.0,2.0,2.0,1.0,2.0,4.0,2.0],\"mode\":\"markers\",\"marker\":{\"color\":[true,true,true,true,true,true,false,false,false,false,true,false,false,true,true,true,true,false,false,true,true,true,true,true,true,true,true,true,true,false,false,false,true,true,false,true,false,false,true,true,false,true,true,false,true,false,false,true,false,true,true,false,true,false,false,true,true,false,false,true,true,true,true,true,true,false,false,true,false,false,true,true,false,false,true,true,true,true,true,true,true,true,false,true,true,true,true,true,true,true,true,true,true,true,true,false,true,false,false,false,false,false,true,true,false,true,false,false,false,true,true,true,true,true,true,false,false,false,true,true,true,true,true,true,true,true,true,true,true,true,true,true,true,true,true,false,false,true,true,true,true,true,true,true,true,true,true,false,false,false,true,true,true,false,false,false,true,true,true,true,true,true,true,true,true,true,true,true,true,true,true,true,true,true,true,true,true,false,false,false,true,true,true,true,true,true,true,true,true,true,true,true,true,true,true,true,false,false,true,false,false,true,true,true,true,true,true,true,true,false,false,false,false,true,true,true,false,false,false,false,false,false,true,false,false,false,true,false,false,true,true,false,false,false,false,false,true,true,true,true,true,true,true,true,false,true,false,false,false,true,false,false,false,false,false,true,false,true,true,false,true,true,true,false,true,true,false,true,false,false,true,true,false,false,false,true,false,false,true,false,false,false,true,true,true,true,true,true,true,false,true,false,false,false,false,false,false,false,true,true,true,true,true,false,false,true,true,true,true,true,true,true,true,true,true,true,true,true,true,true,false,false,true,false,true,false,false,true,false,false,false,false,false,false,false,false,true,true,true,true,false,false,false,true,false,false,false,false,false,false,true,true,true,true,true,true,true,true,true,true,true,true,false,false,false,true,true,true,true,true,true,false,false,true,true,true,true,true,false,false,true,false,true,true,false,false,false,false,true,true,true,false,false,true,true,true,true,false,false,true,false,true,true,true,true,true,true,true,true,true,true,true,true,true,false,false,false,false,false,true,true,false,false,false,false,true,true,true,true,true,true,true,true,true,true,false,false,false,false,true,true,true,false,true,true,true,true,true,true,true,false,false,true,true,true,true,true,false,false,false,false,false,false,false,true,false,false,true,true,true,false,false,false,false,false,true,true,true,true,true,false,false,true,true,false,false,false,false,true,true,true,true,false,true,true,true,true,false,false,false,true,false,false,false,true,true,true,true,false,false,false,false,true,true,true,true,false,true,true,true,true,true,true,true,false,false,false,false,true,true,true,true,true,true,true,true,false,false,false,false,false,false,true,false,false,false,false,false,false,true,true,true,true,false,false,true,true,true,true,true,true,false,false,true,false,false,false,false,false,true,true,true,true,false,true,false,true,true,false,true,false,true,true,true,true,true,true,true,false,false,false,true,true,true,true,true,false,true,true,true,true,true,true,true,false,false,false,false,true,true,false,false,false,true,true,true,true,true,true,true,true,true,false,false,true,true,true,false,false,false,false,true,true,true,true,true,false,true,false,false,true,true,true,true,false,false,false,false,false,false,false,true,true,true,true,false,true,true,true,true,true,true,true,true,false,false,true,true,true,true,true,true,true,true,true,true,true,false,false,false,false,true,true,true,true,false,false,false,false,false,false,false,false,false,false,false,true,true,true,true,true,false,true,true,false,false,false,false,true,true,true,true,true,true,true,false,true,false,true,true,true,true,true,false,true,false,false,false,false,false,false,true,true,true,true,true,false,false,true,false,false,false,true,false,true,true,true,true,true,true,true,true,true,true,true,false,true,false,true,false,false,false,false,false,false,false,true,true,false,true,true,true,true,true,true,true,true,true,true,true,true,true,true,true,false,false,false,false,false,false,false,false,true,true,true,true,true,true,false,true,false,true,false,false,false,false,true,false,false,false,false,true,true,true,true,true,true,true,true,false,false,false,false,false,false,false,false,false,true,true,true,true,true,true,true,true,false,false,true,false,true,true,false,false,true,true,false,false,false,false,false,false,false,true,false,true,false,true,false,true,false,false,false,false,false,false,true,false,true,true,true,true,true,true,true,true,true,true,true,true,true,true,true,true,true,true,true,true,true,false,false,false,false,true,true,true,false,false,false,true,false,true,true,true,false,false,true,true,false,true,true,true,false,false,false,false,false,true,true,false,false,false,false,false,false,false,true,false,true,true,true,true,true,true,true,false,true,false,false,false,false,false,false,false,false,false,false,true,true,true,true,true,true,true,true,true,false,true,true,true,true,true,true,true,true,false,true,true,true,true,true,false,true,false,false,false,true,true,true,true,true,true,true,true,true,true,true,true,false,true,false,false,true,false,true,true,true,true,true,true,true,true,true,true,false,true,true,true,false,true,false,false,false,false,false,false,false,true,true,true,true,false,false,true,true,true,true,false,false,true,true,true,true,false,false,true,true,false,false,false,false,false,false,true,false,true,true,false,false,false,false,true,true,true,false,true,true,true,false,true,false,false,false,true,false,false,false,false,false,false,false,false,false,true,true,true,true,true,true,true,false,false,false,false,false,false,true,false,false,true,false,false,false,false,false,false,true,true,true,true,true,false,false,false,false,false,true,true,true,true,true,true,true,true,true,false,true,true,true,true,true,true,true,true,true,true,true,false,false,true,true,true,true,true,false,false,false,false,false,true,true,true,true,true,true,true,true,true,true,true,false,true,false,true,false,false,false,true,false,false,false,true,true,true,true,true,true,true,false,false,false,true,true,true,true,true,true,true,true,false,false,false,false,true,false,false,false,false,true,false,false,false,false,false,false,false,true,true,true,true,true,true,true,true,true,true,true,true,true,true,true,false,true,true,true,true,true,true,true,true,true,true,false,true,true,true,true,true,false,false,false,false,false,true,true,true,true,true,false,true,false,true,true,true,true,false,false,false,true,true,false,true,true,true,true,true,true,true,true,true,true,true,true,false,false,false,true,true,true,true,true,true,true,false,false,false,false,false,true,true,true,true,true,true,true,false,false,true,true,true,true,true,true,true,false,false,false,false,false,true,true,true,false,false,true,true,true,true,true,true,true,true,true,true,true,true,true,true,true,true,true,true,false,false,false,false,true,false,true,true,true,true,true,true,false,false,false,false,false,false,false,false,true,true,true,true,true,true,true,true,false,true,false,false,true,true,true,true,true,true,true,true,false,false,false,true,true,true,true,true,true,true,true,false,false,true,true,false,true,true,true,true,false,false,false,true,true,true,false,false,false,false,false,true,true,true,true,true,false,false,true,true,true,true,true,false,false,true,true,false,false,false,false,false,false,false,true,true,true,true,false,false,false,false,true,true,true,true,true,false,false,true,false,false,true,false,false,true,true,true,false,false,true,false,false,false,false,false,false,false,false,false,false,false,false,true,true,false,true,true,false,true,false,true,false,false,true,true,true,true,true,true,true,false,false,true,false,true,true,false,false,false,true,false,false,false,true,false,false,true,true,true,true,true,true,true,true,true,false,true,false,false,true,true,true,true,true,true,true,true,true,true,true,true,true,true,true,true,true,true,true,true,true,true,false,false,false,true,false,false,false,false,false,true,false,true,true,true,true,true,true,true,false,false,false,false,false,false,false,false,false,true,true,true,true,true,true,true,true,false,true,false,false,false,false,true,true,true,true,false,false,false,false,false,false,true,true,true,false,false,false,false,false,false,false,false,true,true,true,true,false,false,true,true,true,false,true,true,true,false,false,true,true,true,false,false,false,true,true,true,true,true,true,true,true,true,false,false,true,true,false,false,false,false,false,true,true,true,false,true,true,true,true,true,true,false,false,false,false,false,false,false,true,true,true,true,false,true,true,true,false,true,false,true,true,true,false,false,false,true,true,false,false,true,false,false,false,true,true,true,true,true,true,true,true,true,true,true,true,true,true,true,false,false,true,true,true,true,true,false,false,false,true,true,true,true,true,true,true,true,true,false,false,true,true,false,false,true,true,true,true,true,false,true,true,false,false,true,true,true,true,true,true,true,true,true,false,false,false,false,true,true,true,true,true,true,true,true,true,true,false,false,true,true,true,true,true,true,true,true,false,false,false,false,false,true,false,false,true,true,true,true,true,true,true,true,true,true,true,true,true,true,false,false,false,true,false,false,true,false,true,true,true,true,false,false,false,true,true,false,false,false,false,false,false,true,true,false,false,false,true,true,true,true,true,false,false,true,true,true,true,true,true,true,true,true,true,true,true,true,true,true,false,false,false,false,true,false,false,false,false,true,false,false,true,true,true,true,true,true,true,true,true,false,false,true,false,true,true,true,true,true,true,false,true,true,true,true,true,false,false,true,true,true,true,true,true,false,true,true,true,true,true,true,true,true,true,true,true,true,true,true,false,false,true,false,true,true,true,true,true,true,false,true,true,true,false,true,true,true,true,false,false,false,true,true,true,true,true,true,true,true,false,true,true,true,true,false,false,false,false,false,false,true,false,false,false,true,true,true,true,false,false,true,true,true,true,false,false,false,false,false,true,true,true,true,true,true,false,false,true,true,true,true,true,true,true,true,true,false,true,true,true,false,false,true,true,false,true,true,true,false,true,false,false,false,true,true,true,true,false,true,true,true,true,true,true,true,true,true,true,true,true,false,false,true,true,false,true,true,true,true,true,true,true,true,true,false,false,true,true,false,false,true,true,true,true,false,true,false,false,true,true,true,true,true,true,true,true,false,false,false,true,true,true,true,true,true,true,true,true,false,true,true,true,true,true,true,true,false,true,true,true,true,true,true,true,false,false,false,false,false,true,false,false,false,false,false,false,false,true,false,true,true,true,true,true,true,true,true,true,true,true,true,true,true,true,true,true,true,true,false,false,true,false,false,false,true,false,false,true,false,false,true,true,true,true,false,false,false,true,false,false,false,true,false,false,true,true,true,true,true,true,false,false,false,false,false,false,false,false,true,true,false,false,false,true,false,true,false,false,false,true,true,false,true,false,true,true,false,false,true,false,true,true],\"colorscale\":\"Jet\"}}];\n",
       "            var layout = \"\";\n",
       "            Plotly.newPlot('796d5b63-ca6a-4d23-9375-9d0cc57058a8', data, layout);\n",
       "        });\r\n",
       "};\r\n",
       "if ((typeof(requirejs) !==  typeof(Function)) || (typeof(requirejs.config) !== typeof(Function))) { \r\n",
       "    var script = document.createElement(\"script\"); \r\n",
       "    script.setAttribute(\"src\", \"https://cdnjs.cloudflare.com/ajax/libs/require.js/2.3.6/require.min.js\"); \r\n",
       "    script.onload = function(){\r\n",
       "        renderPlotly();\r\n",
       "    };\r\n",
       "    document.getElementsByTagName(\"head\")[0].appendChild(script); \r\n",
       "}\r\n",
       "else {\r\n",
       "    renderPlotly();\r\n",
       "}\r\n",
       "</script>"
      ]
     },
     "metadata": {},
     "output_type": "display_data"
    }
   ],
   "source": [
    "var chart = Chart.Plot(\n",
    "    new Graph.Scattergl()\n",
    "    {\n",
    "        x = ordersData[\"UnitPrice\"],\n",
    "        y = ordersData[\"Quantity\"],\n",
    "        mode = \"markers\",\n",
    "        marker = new Graph.Marker()\n",
    "        {\n",
    "            color = ordersData[\"PayFullPrice\"],\n",
    "            colorscale = \"Jet\"\n",
    "        }\n",
    "    }\n",
    ");\n",
    "\n",
    "chart.Width = 600;\n",
    "chart.Height = 600;\n",
    "display(chart);"
   ]
  },
  {
   "cell_type": "code",
   "execution_count": 42,
   "metadata": {},
   "outputs": [
    {
     "data": {
      "text/html": [
       "1940"
      ]
     },
     "metadata": {},
     "output_type": "display_data"
    },
    {
     "data": {
      "text/html": [
       "215"
      ]
     },
     "metadata": {},
     "output_type": "display_data"
    }
   ],
   "source": [
    "static T[] Shuffle<T>(T[] array)\n",
    "{\n",
    "    Random rand = new Random();\n",
    "    for (int i = 0; i < array.Length; i++)\n",
    "    {\n",
    "        int r = i + rand.Next(array.Length - i);\n",
    "        T temp = array[r];\n",
    "        array[r] = array[i];\n",
    "        array[i] = temp;\n",
    "    }\n",
    "    return array;\n",
    "}\n",
    "\n",
    "int[] randomIndices = Shuffle(Enumerable.Range(0, (int)ordersData.RowCount).ToArray());\n",
    "int testSize = (int)(ordersData.RowCount * .1);\n",
    "int[] trainRows = randomIndices[testSize..];\n",
    "int[] testRows = randomIndices[..testSize];\n",
    "\n",
    "DataFrame orders_train = ordersData[trainRows];\n",
    "DataFrame orders_test = ordersData[testRows];\n",
    "\n",
    "display(orders_train.RowCount);\n",
    "display(orders_test.RowCount);"
   ]
  },
  {
   "cell_type": "code",
   "execution_count": 43,
   "metadata": {},
   "outputs": [],
   "source": [
    "using Microsoft.ML;\n",
    "using Microsoft.ML.Data;\n",
    "using Microsoft.ML.AutoML;"
   ]
  },
  {
   "cell_type": "code",
   "execution_count": 44,
   "metadata": {},
   "outputs": [],
   "source": [
    "var mlContext = new MLContext();"
   ]
  },
  {
   "cell_type": "code",
   "execution_count": 45,
   "metadata": {},
   "outputs": [
    {
     "data": {
      "text/plain": [
       "Wall time: 31916.882100000003ms"
      ]
     },
     "metadata": {},
     "output_type": "display_data"
    }
   ],
   "source": [
    "%%time\n",
    "\n",
    "var experiment = mlContext.Auto().CreateBinaryClassificationExperiment(maxExperimentTimeInSeconds: 30);\n",
    "var result = experiment.Execute(orders_train, labelColumnName:\"PayFullPrice\");"
   ]
  },
  {
   "cell_type": "code",
   "execution_count": 50,
   "metadata": {},
   "outputs": [
    {
     "data": {
      "text/html": [
       "<div id=\"9da75e69-abec-4567-9e8c-b5f06dcf2d3e\" style=\"width: 900px; height: 500px;\"></div><script type=\"text/javascript\">\r\n",
       "\r\n",
       "var renderPlotly = function() {\r\n",
       "    var xplotRequire = requirejs.config({context:'xplot-2.0.0',paths:{plotly:'https://cdn.plot.ly/plotly-1.49.2.min'}});\r\n",
       "    xplotRequire(['plotly'], function(Plotly) {\r\n",
       "\n",
       "            var data = [{\"type\":\"scattergl\",\"x\":[2.8089274],\"y\":[0.6243386243386243],\"mode\":\"markers\",\"marker\":{\"size\":12},\"name\":\"AveragedPerceptronBinary\"},{\"type\":\"scattergl\",\"x\":[3.6087062],\"y\":[0.6277777777777778],\"mode\":\"markers\",\"marker\":{\"size\":12},\"name\":\"SdcaLogisticRegressionBinary\"},{\"type\":\"scattergl\",\"x\":[4.8044556],\"y\":[0.5416666666666666],\"mode\":\"markers\",\"marker\":{\"size\":12},\"name\":\"LightGbmBinary\"},{\"type\":\"scattergl\",\"x\":[2.3809696],\"y\":[0.595],\"mode\":\"markers\",\"marker\":{\"size\":12},\"name\":\"SymbolicSgdLogisticRegressionBinary\"},{\"type\":\"scattergl\",\"x\":[2.2685641],\"y\":[0.57],\"mode\":\"markers\",\"marker\":{\"size\":12},\"name\":\"LinearSvmBinary\"},{\"type\":\"scattergl\",\"x\":[5.6522215],\"y\":[0.5631578947368421],\"mode\":\"markers\",\"marker\":{\"size\":12},\"name\":\"FastTreeBinary\"},{\"type\":\"scattergl\",\"x\":[2.2436273],\"y\":[0.6222222222222222],\"mode\":\"markers\",\"marker\":{\"size\":12},\"name\":\"LbfgsLogisticRegressionBinary\"},{\"type\":\"scattergl\",\"x\":[5.3380871],\"y\":[0.6157894736842106],\"mode\":\"markers\",\"marker\":{\"size\":12},\"name\":\"FastForestBinary\"},{\"type\":\"scattergl\",\"x\":[2.7633511],\"y\":[0.6166666666666667],\"mode\":\"markers\",\"marker\":{\"size\":12},\"name\":\"SgdCalibratedBinary\"}];\n",
       "            var layout = {\"xaxis\":{\"title\":\"Training Time\",\"_isSubplotObj\":true},\"yaxis\":{\"title\":\"Error\",\"_isSubplotObj\":true}};\n",
       "            Plotly.newPlot('9da75e69-abec-4567-9e8c-b5f06dcf2d3e', data, layout);\n",
       "        });\r\n",
       "};\r\n",
       "if ((typeof(requirejs) !==  typeof(Function)) || (typeof(requirejs.config) !== typeof(Function))) { \r\n",
       "    var script = document.createElement(\"script\"); \r\n",
       "    script.setAttribute(\"src\", \"https://cdnjs.cloudflare.com/ajax/libs/require.js/2.3.6/require.min.js\"); \r\n",
       "    script.onload = function(){\r\n",
       "        renderPlotly();\r\n",
       "    };\r\n",
       "    document.getElementsByTagName(\"head\")[0].appendChild(script); \r\n",
       "}\r\n",
       "else {\r\n",
       "    renderPlotly();\r\n",
       "}\r\n",
       "</script>"
      ]
     },
     "metadata": {},
     "output_type": "display_data"
    },
    {
     "name": "stdout",
     "output_type": "stream",
     "text": [
      "Best Trainer:SdcaLogisticRegressionBinary\n"
     ]
    }
   ],
   "source": [
    "var scatters = result.RunDetails.Where(d => d.ValidationMetrics != null).GroupBy(    \n",
    "    r => r.TrainerName,\n",
    "    (name, details) => new Graph.Scattergl()\n",
    "    {\n",
    "        name = name,\n",
    "        x = details.Select(r => r.RuntimeInSeconds),\n",
    "        y = details.Select(r => r.ValidationMetrics.Accuracy),\n",
    "        mode = \"markers\",\n",
    "        marker = new Graph.Marker() { size = 12 }\n",
    "    });\n",
    "\n",
    "var chart = Chart.Plot(scatters);\n",
    "chart.WithXTitle(\"Training Time\");\n",
    "chart.WithYTitle(\"Error\");\n",
    "display(chart);\n",
    "\n",
    "Console.WriteLine($\"Best Trainer:{result.BestRun.TrainerName}\");"
   ]
  },
  {
   "cell_type": "code",
   "execution_count": 51,
   "metadata": {},
   "outputs": [],
   "source": [
    "RunDetail<BinaryClassificationMetrics> best = result.BestRun;\n",
    "ITransformer trainedModel = best.Model;"
   ]
  },
  {
   "cell_type": "code",
   "execution_count": 52,
   "metadata": {},
   "outputs": [],
   "source": [
    "var testResults = result.BestRun.Model.Transform(orders_test);\n",
    "\n",
    "var metrics = mlContext.BinaryClassification.Evaluate(testResults, labelColumnName: \"PayFullPrice\", scoreColumnName: \"Score\");\n"
   ]
  },
  {
   "cell_type": "code",
   "execution_count": 75,
   "metadata": {},
   "outputs": [
    {
     "name": "stdout",
     "output_type": "stream",
     "text": [
      "\n",
      "Model quality metrics evaluation\n",
      "--------------------------------\n",
      "Accuracy: 64.19%\n",
      "Auc: 58.55%\n",
      "F1Score: 76.45%\n",
      "=============== End of model evaluation ===============\n"
     ]
    }
   ],
   "source": [
    "Console.WriteLine();\n",
    "Console.WriteLine(\"Model quality metrics evaluation\");\n",
    "Console.WriteLine(\"--------------------------------\");\n",
    "Console.WriteLine($\"Accuracy: {metrics.Accuracy:P2}\");\n",
    "Console.WriteLine($\"Auc: {metrics.AreaUnderRocCurve:P2}\");\n",
    "Console.WriteLine($\"F1Score: {metrics.F1Score:P2}\");\n",
    "Console.WriteLine(\"=============== End of model evaluation ===============\");"
   ]
  },
  {
   "cell_type": "code",
   "execution_count": 76,
   "metadata": {},
   "outputs": [
    {
     "name": "stdout",
     "output_type": "stream",
     "text": [
      "The model is saved to orders.onnx\n"
     ]
    }
   ],
   "source": [
    "var MODEL_NAME = \"orders.onnx\";\n",
    "using (var stream = File.Create(MODEL_NAME))\n",
    "{\n",
    "    mlContext.Model.ConvertToOnnx(trainedModel, ordersData, stream);\n",
    "}\n",
    "Console.WriteLine(\"The model is saved to {0}\", MODEL_NAME);"
   ]
  },
  {
   "cell_type": "code",
   "execution_count": 77,
   "metadata": {},
   "outputs": [],
   "source": [
    "using Microsoft.ML.OnnxRuntime;\n",
    "using Microsoft.ML.OnnxRuntime.Tensors;"
   ]
  },
  {
   "cell_type": "code",
   "execution_count": 78,
   "metadata": {},
   "outputs": [],
   "source": [
    "private static NamedOnnxValue GetNamedOnnxValue<T>(IReadOnlyDictionary<string, NodeMetadata> inputMeta, string column, T value)\n",
    "{\n",
    "    T[] inputDataInt = new T[] { value };\n",
    "    var tensor = new DenseTensor<T>(inputDataInt, inputMeta[column].Dimensions);\n",
    "    var namedOnnxValue = NamedOnnxValue.CreateFromTensor<T>(column, tensor);\n",
    "    return namedOnnxValue;\n",
    "}"
   ]
  },
  {
   "cell_type": "code",
   "execution_count": 86,
   "metadata": {},
   "outputs": [],
   "source": [
    "var session = new InferenceSession(MODEL_NAME);\n",
    "\n",
    "/*cont onnx*/\n",
    "\n",
    "var inputMeta = session.InputMetadata;\n",
    "\n",
    "var container = new List<NamedOnnxValue>();\n",
    "//10298,36,15.20,40,0.25\n",
    "container.Add(GetNamedOnnxValue<float>(inputMeta, \"ProductID\", 41));\n",
    "container.Add(GetNamedOnnxValue<float>(inputMeta, \"UnitPrice\", 7.7f));\n",
    "container.Add(GetNamedOnnxValue<float>(inputMeta, \"Quantity\", 10f));\n",
    "container.Add(GetNamedOnnxValue<bool>(inputMeta, \"PayFullPrice\", false));"
   ]
  },
  {
   "cell_type": "code",
   "execution_count": 87,
   "metadata": {},
   "outputs": [
    {
     "name": "stdout",
     "output_type": "stream",
     "text": [
      "**********************************************************************\n",
      "Predicted Pay Full Price: True, actual : true\n",
      "**********************************************************************\n"
     ]
    }
   ],
   "source": [
    "var result = session.Run(container);\n",
    "var output = result.First(x => x.Name == \"PredictedLabel0\").AsTensor<bool>().GetValue(0);\n",
    "\n",
    "Console.WriteLine($\"**********************************************************************\");\n",
    "Console.WriteLine($\"Predicted Pay Full Price: {output:0.####}, actual : true\");\n",
    "Console.WriteLine($\"**********************************************************************\");"
   ]
  },
  {
   "cell_type": "code",
   "execution_count": null,
   "metadata": {},
   "outputs": [],
   "source": []
  },
  {
   "cell_type": "code",
   "execution_count": null,
   "metadata": {},
   "outputs": [],
   "source": []
  }
 ],
 "metadata": {
  "kernelspec": {
   "display_name": ".NET (C#)",
   "language": "C#",
   "name": ".net-csharp"
  },
  "language_info": {
   "file_extension": ".cs",
   "mimetype": "text/x-csharp",
   "name": "C#",
   "pygments_lexer": "csharp",
   "version": "8.0"
  }
 },
 "nbformat": 4,
 "nbformat_minor": 4
}
